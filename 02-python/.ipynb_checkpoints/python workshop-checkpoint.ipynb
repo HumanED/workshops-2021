{
 "cells": [
  {
   "cell_type": "markdown",
   "id": "04551c65",
   "metadata": {},
   "source": [
    "# 0. Python Workshop\n",
    "\n",
    "Welcome to the HumanEd Python workshop!\n",
    "\n",
    "If you have any questions, please let us know and we will try to help.\n",
    "\n",
    "Here are some additional useful resources:\n",
    "- https://learnxinyminutes.com/docs/python/\n",
    "- https://www.w3schools.com/python/"
   ]
  },
  {
   "cell_type": "markdown",
   "id": "dietary-wonder",
   "metadata": {},
   "source": [
    "# 1. Basic Types\n",
    "Python supports many data types. In this section you will get familiar with the basic data types within python.\n",
    "## 1.1 Numbers\n",
    "In python numbers can be stored in different formats:\n",
    "1. Integers\n",
    "2. Floats (Decimal numbers)\n",
    "3. Complex numbers\n",
    "\n",
    "All these types support various operations: addition (+), subtraction (-), multiplication (*), division (/), etc."
   ]
  },
  {
   "cell_type": "code",
   "execution_count": 1,
   "id": "inside-viking",
   "metadata": {},
   "outputs": [
    {
     "data": {
      "text/plain": [
       "(5+5j)"
      ]
     },
     "execution_count": 1,
     "metadata": {},
     "output_type": "execute_result"
    }
   ],
   "source": [
    "5 # Example of an integer in python\n",
    "5.5 # Example of a float in python\n",
    "5+5j # Example of a complex number in python"
   ]
  },
  {
   "cell_type": "code",
   "execution_count": 2,
   "id": "respected-adams",
   "metadata": {},
   "outputs": [
    {
     "name": "stdout",
     "output_type": "stream",
     "text": [
      "10.2\n",
      "(10+15j)\n",
      "2.0\n",
      "3\n",
      "2\n",
      "16\n"
     ]
    }
   ],
   "source": [
    "# Here we present some examples of how calculations are performed in python, the print() function is used\n",
    "# to display the result\n",
    "print(5 + 5.2)     # Addition\n",
    "print(5 * (2+3j))  # Multiplication\n",
    "print(5 / 2.5)     # Division\n",
    "print(7 // 2)      # Integer division\n",
    "print(14 % 3)      # Modulo\n",
    "print(2 ** 4)      # Exponential\n"
   ]
  },
  {
   "cell_type": "markdown",
   "id": "anticipated-general",
   "metadata": {},
   "source": [
    "# Exercise 1\n",
    "Up to this point we have used python as if it was a basic calculator. The first exercise consists on computing the time that a ball takes to fall 30 metres. Assume no air resistance, g = 9.8 and the initial velocity of the ball is zero.\n",
    "Remember to print your result in the screen using print(result) where result is the number that you got."
   ]
  },
  {
   "cell_type": "code",
   "execution_count": 7,
   "id": "rotary-tuning",
   "metadata": {},
   "outputs": [
    {
     "ename": "NotImplementedError",
     "evalue": "",
     "output_type": "error",
     "traceback": [
      "\u001b[0;31m---------------------------------------------------------------------------\u001b[0m",
      "\u001b[0;31mNotImplementedError\u001b[0m                       Traceback (most recent call last)",
      "\u001b[0;32m<ipython-input-7-87d696461413>\u001b[0m in \u001b[0;36m<module>\u001b[0;34m\u001b[0m\n\u001b[1;32m      1\u001b[0m \u001b[0;31m#Your code goes here\u001b[0m\u001b[0;34m\u001b[0m\u001b[0;34m\u001b[0m\u001b[0;34m\u001b[0m\u001b[0m\n\u001b[0;32m----> 2\u001b[0;31m \u001b[0;32mraise\u001b[0m \u001b[0mNotImplementedError\u001b[0m\u001b[0;34m\u001b[0m\u001b[0;34m\u001b[0m\u001b[0m\n\u001b[0m",
      "\u001b[0;31mNotImplementedError\u001b[0m: "
     ]
    }
   ],
   "source": [
    "#Your code goes here, when you complete the exercise deleat the raise NotImplementedError statement to run the code\n",
    "raise NotImplementedError"
   ]
  },
  {
   "cell_type": "markdown",
   "id": "simplified-burst",
   "metadata": {},
   "source": [
    "## 1.2 Booleans\n",
    "This type can only take two values, False or True. It's the type used for logic operations.\n",
    "This type supports different operations:\n",
    "1. and\n",
    "2. or\n",
    "3. not\n",
    "\n",
    "Additionally, operations of different types can give booleans as result:\n",
    "1. Equality operator (==)\n",
    "2. Not equal operator (!=)\n",
    "3. Greater than operator (>)\n",
    "4. Less than operator (<)\n",
    "5. Greater than or equal operator (>=)\n",
    "6. Less than or equal operator (<=)"
   ]
  },
  {
   "cell_type": "code",
   "execution_count": 3,
   "id": "educated-rates",
   "metadata": {},
   "outputs": [
    {
     "name": "stdout",
     "output_type": "stream",
     "text": [
      "True\n",
      "False\n",
      "False\n",
      "False\n",
      "True\n",
      "True\n",
      "True\n"
     ]
    }
   ],
   "source": [
    "print(True and True)        # And operator\n",
    "print(True and False)       # And operator\n",
    "print(not(True) or False)   # Or, not operators\n",
    "print(2 == 3)               # Equality operator\n",
    "print(2 != 3)               # Not equal operator\n",
    "print(2 < 3)                # Less than operator\n",
    "print(3 <= 3)               # Less than or equal operator\n"
   ]
  },
  {
   "cell_type": "markdown",
   "id": "soviet-jimmy",
   "metadata": {},
   "source": [
    "## Exercise 2\n",
    "Try to evalate the following expression in your head and code it in python to test your solution:\n",
    "\n",
    "$$(\\neg(\\top \\lor \\bot))\\lor(\\neg(\\top \\land \\bot))$$\n"
   ]
  },
  {
   "cell_type": "code",
   "execution_count": 4,
   "id": "ultimate-fireplace",
   "metadata": {},
   "outputs": [
    {
     "ename": "NotImplementedError",
     "evalue": "",
     "output_type": "error",
     "traceback": [
      "\u001b[0;31m---------------------------------------------------------------------------\u001b[0m",
      "\u001b[0;31mNotImplementedError\u001b[0m                       Traceback (most recent call last)",
      "\u001b[0;32m/tmp/ipykernel_28354/732921.py\u001b[0m in \u001b[0;36m<module>\u001b[0;34m\u001b[0m\n\u001b[1;32m      1\u001b[0m \u001b[0;31m#Your code goes here, when you complete the exercise deleat the raise NotImplementedError statement to run the code\u001b[0m\u001b[0;34m\u001b[0m\u001b[0;34m\u001b[0m\u001b[0m\n\u001b[0;32m----> 2\u001b[0;31m \u001b[0;32mraise\u001b[0m \u001b[0mNotImplementedError\u001b[0m\u001b[0;34m\u001b[0m\u001b[0;34m\u001b[0m\u001b[0m\n\u001b[0m",
      "\u001b[0;31mNotImplementedError\u001b[0m: "
     ]
    }
   ],
   "source": [
    "#Your code goes here, when you complete the exercise deleat the raise NotImplementedError statement to run the code\n",
    "raise NotImplementedError"
   ]
  },
  {
   "cell_type": "markdown",
   "id": "indoor-marshall",
   "metadata": {},
   "source": [
    "## 1.3 Strings\n",
    "In python strings represent words and sentences. Each string is made up from a collection of ordered characters. For example, the string \"Hello\" is composed of the characters 'H','e','l','l','o'. Each of these characters has a position in the string ('H' is in position 0, 'e' in position 1 and so on).\n",
    "Strings can be enclosed in single or double quotes 'Hello' or \"Hello\" are the same thing.\n",
    "They support different operators:\n",
    "1. (+) for concatenation\n",
    "2. (*) for repeteition\n",
    "3. ([i]) for accessing individual characters of the string.\n",
    "\n",
    "Strings are immutable. This means that they cannot be modified once they are created. Trying to modify a substring results in an error.\n",
    "This means that the code \"Hello\"[0] = 'k' will give an error (you can try this yourself).\n",
    "\n"
   ]
  },
  {
   "cell_type": "code",
   "execution_count": 6,
   "id": "absent-coverage",
   "metadata": {},
   "outputs": [
    {
     "name": "stdout",
     "output_type": "stream",
     "text": [
      "Hello world!!!\n",
      "Hello World 5 times Hello World 5 times Hello World 5 times Hello World 5 times Hello World 5 times \n",
      "long\n"
     ]
    }
   ],
   "source": [
    "print('Hello ' + 'world' + '!!!')              # Strings can be concatenated using the (+) operator\n",
    "\n",
    "print('Hello World 5 times '*5)                # Strings can be repeated multiple times using the (*) operator\n",
    "\n",
    "print('This is a very long sentence'[15:19])   # You can extract substrings using slices ([i:j]).\n",
    "                                               # This extracts the substring starting at i and ending at j-1.\n",
    "                                               # Remember that the index starts at 0.\n"
   ]
  },
  {
   "cell_type": "markdown",
   "id": "detailed-vessel",
   "metadata": {},
   "source": [
    "## 1.4 Lists\n",
    "There are different types of compound structures in Python. The most versatile is the list.\n",
    "This type allows you to store together different types and objects in one structure.\n",
    "Like strings, list items can also be accessed using indices. Similarly, they can be sliced and concatenated. This is because both strings and lists (and tuples and a few others we will not\n",
    "mention here) are what Python calls sequence types.\n",
    "Operations like verifying membership, concatenation, indexing, slicing and measuring the length of a\n",
    "sequence can be performed on any sequence type.\n",
    "\n",
    "Unlike strings, lists are mutable. Items can be added at the end of a list using\n",
    "the .append(item) method of the list object."
   ]
  },
  {
   "cell_type": "code",
   "execution_count": 7,
   "id": "equipped-somalia",
   "metadata": {},
   "outputs": [
    {
     "name": "stdout",
     "output_type": "stream",
     "text": [
      "['Monday', 'Tuesday', 'Wednesday', 'Thursday', 'Friday']\n",
      "['Monday', 2.3, True, 4, [[2, 3], [4, 5]]]\n",
      "1\n",
      "[1, 2, 3]\n",
      "[1, 2, 3, 4]\n",
      "[4]\n",
      "[0, 1, 2]\n",
      "[0, 1, 2, 3, 4]\n",
      "True\n"
     ]
    }
   ],
   "source": [
    "\n",
    "print(['Monday','Tuesday','Wednesday','Thursday','Friday']) # A simple list of strings \n",
    "print(['Monday', 2.3, True, 4, [[2,3], [4,5]]])             # Lists in python can contain elements of multiple types\n",
    "print([0,1,2,3,4][1])                                       # Access an individual element\n",
    "print([0,1,2,3,4][1:4])                                     # Extract the sublist starting at position 1 and ending at position 3\n",
    "print([0,1,2,3,4][1:])                                      # Extract the sublist starting at position 1\n",
    "print([0,1,2,3,4][-1:])                                     # Try to figure out what this means\n",
    "print([0,1,2,3,4][:3])                                      # Extract the sublist ending at position 2\n",
    "print([0,1] + [2,3,4])                                      # Lists can be concatenated using the (+) operator\n",
    "print(2 in [1,2,3])                                         # You can check if an element is in an array using the (in) operator\n"
   ]
  },
  {
   "cell_type": "markdown",
   "id": "small-consideration",
   "metadata": {},
   "source": [
    "# 2. Variables and Functions\n",
    "## 2.1 Variables:\n",
    "So far we have just used python as an interpreter but that is of no real use, let's say that at one point we perform a difficult calculation and then we want to use it again and again over our code. It makes little sense to perform that calculation over and over again. That's why variables exist. basically a variable is a way of referencing an object that is stored in memory.\n",
    "In python it is very easy to declare a variable, let's say that we want to create a variable x that holds the value 5, then we can just say x = 5. Now if we want to get the value of x we can just call print(x)."
   ]
  },
  {
   "cell_type": "code",
   "execution_count": 8,
   "id": "olympic-perry",
   "metadata": {},
   "outputs": [
    {
     "name": "stdout",
     "output_type": "stream",
     "text": [
      "5\n"
     ]
    }
   ],
   "source": [
    "x = 5\n",
    "print(x)"
   ]
  },
  {
   "cell_type": "code",
   "execution_count": 11,
   "id": "b0899777",
   "metadata": {},
   "outputs": [
    {
     "name": "stdout",
     "output_type": "stream",
     "text": [
      "[0, 1, 2, 99]\n"
     ]
    }
   ],
   "source": [
    "x = [0,1,2,3]\n",
    "y = 99\n",
    "x[3] = y   # We can perform operations with variables as we would expect\n",
    "print(x)"
   ]
  },
  {
   "cell_type": "markdown",
   "id": "judicial-ladder",
   "metadata": {},
   "source": [
    "## 2.2 Functions:\n",
    "The mathematical definition of a function holds for python. A function is just a mathematical object that takes some input variables (x,y,...) and returns a new value. \n",
    "\n",
    "Functions are essential in programming as they allow you to structure your code. So far we have been writting everything outside functions, this is not a good practice. For example consider the exercise 1, let's say that you want to compute the time that the ball took to fall a height of h (instead of 30). If you wanted to do it for many h's then without functions you would need to repeat the code over and over again. With functions, you can make one general function that takes an input h and that returns the time for that h.\n",
    "An example of how to define and call a function in python is given below"
   ]
  },
  {
   "cell_type": "code",
   "execution_count": 13,
   "id": "accompanied-aspect",
   "metadata": {},
   "outputs": [
    {
     "name": "stdout",
     "output_type": "stream",
     "text": [
      "10\n"
     ]
    }
   ],
   "source": [
    "def my_addition(x,y):    # Function header - defines the function name and the input variables\n",
    "    result = x + y       # Function body - contains all the operations performed by the function \n",
    "    return result        # Function output - specifies the output of the function\n",
    "\n",
    "print(my_addition(5,5))"
   ]
  },
  {
   "cell_type": "markdown",
   "id": "finished-coast",
   "metadata": {},
   "source": [
    "## Exercise 3\n",
    "Write a function that solves the problem of exercise 1 for any given height h"
   ]
  },
  {
   "cell_type": "code",
   "execution_count": null,
   "id": "wanted-pierre",
   "metadata": {},
   "outputs": [],
   "source": [
    "#Your code goes here, when you complete the exercise deleat the raise NotImplementedError statement to run the code\n",
    "raise NotImplementedError"
   ]
  },
  {
   "cell_type": "markdown",
   "id": "attended-slave",
   "metadata": {},
   "source": [
    "## Exercise 4\n",
    "Write a Python program to calculate radius of a sphere given its volume (V) in $\\text{metres}^3$.\n",
    "To represent the number pi use math.pi. A useful function is math.pow(x,n) that computes $x^n$ even if n is rational"
   ]
  },
  {
   "cell_type": "code",
   "execution_count": 15,
   "id": "conscious-commons",
   "metadata": {},
   "outputs": [
    {
     "ename": "NotImplementedError",
     "evalue": "",
     "output_type": "error",
     "traceback": [
      "\u001b[0;31m---------------------------------------------------------------------------\u001b[0m",
      "\u001b[0;31mNotImplementedError\u001b[0m                       Traceback (most recent call last)",
      "\u001b[0;32m/tmp/ipykernel_28354/1843588528.py\u001b[0m in \u001b[0;36m<module>\u001b[0;34m\u001b[0m\n\u001b[1;32m      1\u001b[0m \u001b[0;32mimport\u001b[0m \u001b[0mmath\u001b[0m\u001b[0;34m\u001b[0m\u001b[0;34m\u001b[0m\u001b[0m\n\u001b[1;32m      2\u001b[0m \u001b[0;31m#Your code goes here, when you complete the exercise deleat the raise NotImplementedError statement to run the code\u001b[0m\u001b[0;34m\u001b[0m\u001b[0;34m\u001b[0m\u001b[0m\n\u001b[0;32m----> 3\u001b[0;31m \u001b[0;32mraise\u001b[0m \u001b[0mNotImplementedError\u001b[0m\u001b[0;34m\u001b[0m\u001b[0;34m\u001b[0m\u001b[0m\n\u001b[0m",
      "\u001b[0;31mNotImplementedError\u001b[0m: "
     ]
    }
   ],
   "source": [
    "import math\n",
    "#Your code goes here, when you complete the exercise deleat the raise NotImplementedError statement to run the code\n",
    "raise NotImplementedError"
   ]
  },
  {
   "cell_type": "markdown",
   "id": "disciplinary-convergence",
   "metadata": {},
   "source": [
    "# 3. Conditional Statements\n",
    "In order to start making a computer program do more than simple pre-determined calculations we have to introduce the idea of conditional statements. These make the execution path though the code depend on the values of the variables. This is called Flow Control and is the first real step in programming. \n",
    "The general structure of a conditional statement is as follows:\n",
    "\n",
    "```python\n",
    "if condition:\n",
    "    code\n",
    "\n",
    "```\n",
    "\n",
    "where condition is an expression that evaluates to a boolean (either true or false). If the condition is false then code is not executed (those line are ignored), while if the condition is true then code is executed.\n",
    "If statements are usually used in combination of else statements:\n",
    "```python\n",
    "if condition:\n",
    "    code\n",
    "else:\n",
    "    other_code\n",
    "\n",
    "```\n",
    "In this case the first part is exaclty the same as before, if the condition is false it won't execute code and it it is true it will; however other_code will only be executed if code is not executed. Basically if the condition is not true, then Python won't go inside the if statement but will go into the else statement.\n",
    "\n",
    "Some times we want to check for multiple conditions we can do:\n",
    "```python\n",
    "if condition_one and condition_two:\n",
    "    code\n",
    "else:\n",
    "    other_code\n",
    "\n",
    "```\n",
    "and so on.\n",
    "\n",
    "Maybe we want to do different things for different conditions, then we have two possibilities: either we want to check each condition independently and do one thing for each condition (example 1), or we want only to check the different conditionals if the one before hasn't been met (example 2):\n",
    "\n",
    "Example 1:\n",
    "\n",
    "```python\n",
    "if condition_one:\n",
    "    code_one\n",
    "if condition_two:\n",
    "    code_two\n",
    "if condition_three:\n",
    "    code_three\n",
    "if condition_four:\n",
    "    code_four\n",
    "\n",
    "```\n",
    "In this case, python will check condition_one, if it is met it will execute code_one, and if it is not met it will not execute code_one. Then, independenlty of the evaluation of condition_one, it will check condition two and if it's met then it will execute code_two and so on for the different if's. Note that each if statement could be accompanied with an else statement that executes some code_i if condition_i is not met.\n",
    "\n",
    "Example 2:\n",
    "\n",
    "```python\n",
    "if condition_one:\n",
    "    code_one\n",
    "elif condition_two:\n",
    "    code_two\n",
    "elif condition_three:\n",
    "    code_three\n",
    "elif condition_four:\n",
    "    code_four\n",
    "else:\n",
    "    code_five\n",
    "```\n",
    "In this case python will check if condition_one is True or False, if it is true then it will execute code_one and that's it, it will not execute any other code_i no matter if condition_i is true. However, if condition_one is not true it will check condition_two and if it is true then it will execute code_two and that's it. This will go on until it finds some condition that is true or until it reaches the else statement (it will run code_five if and only if all the previous conditions have not been met). Note that if the else statement was omited, the code will just go on if none of the conditions are met. Also, note that you cannot include an else statement associated to an elif statement. This syntax is known as nested conditionals and the name elif comes from the contraction of else and if.\n"
   ]
  },
  {
   "cell_type": "code",
   "execution_count": 16,
   "id": "initial-awareness",
   "metadata": {},
   "outputs": [
    {
     "name": "stdout",
     "output_type": "stream",
     "text": [
      "x is less than y\n"
     ]
    }
   ],
   "source": [
    "import random               # Allows us to use the functionalities in the random library\n",
    "x = random.randint(0,10)    # Generates a random number between 0 and 10\n",
    "y = random.randint(0,10)    # Generates a random number between 0 and 10\n",
    "\n",
    "if x > y:\n",
    "  print('x is greater than y')\n",
    "elif x < y:\n",
    "  print('x is less than y')\n",
    "else:\n",
    "  print('x is equal to y')"
   ]
  },
  {
   "cell_type": "markdown",
   "id": "suited-spray",
   "metadata": {},
   "source": [
    "## Exercise 5\n",
    "\n",
    "Write a Python function that takes three arguments a,b,c as parameters and returns the solution(s) of the equation:\n",
    "$$ax^2+bx+c=0$$\n",
    "\n",
    "The program is expected to deal with conditions of\n",
    "\n",
    "    1. two real roots\n",
    "    2. two complex roots\n",
    "    3. single real root\n",
    "\n",
    "Return the solution as a list"
   ]
  },
  {
   "cell_type": "code",
   "execution_count": 17,
   "id": "naval-cargo",
   "metadata": {},
   "outputs": [
    {
     "ename": "NotImplementedError",
     "evalue": "",
     "output_type": "error",
     "traceback": [
      "\u001b[0;31m---------------------------------------------------------------------------\u001b[0m",
      "\u001b[0;31mNotImplementedError\u001b[0m                       Traceback (most recent call last)",
      "\u001b[0;32m/tmp/ipykernel_28354/732921.py\u001b[0m in \u001b[0;36m<module>\u001b[0;34m\u001b[0m\n\u001b[1;32m      1\u001b[0m \u001b[0;31m#Your code goes here, when you complete the exercise deleat the raise NotImplementedError statement to run the code\u001b[0m\u001b[0;34m\u001b[0m\u001b[0;34m\u001b[0m\u001b[0m\n\u001b[0;32m----> 2\u001b[0;31m \u001b[0;32mraise\u001b[0m \u001b[0mNotImplementedError\u001b[0m\u001b[0;34m\u001b[0m\u001b[0;34m\u001b[0m\u001b[0m\n\u001b[0m",
      "\u001b[0;31mNotImplementedError\u001b[0m: "
     ]
    }
   ],
   "source": [
    "#Your code goes here, when you complete the exercise deleat the raise NotImplementedError statement to run the code\n",
    "raise NotImplementedError"
   ]
  },
  {
   "cell_type": "markdown",
   "id": "7eaa1810",
   "metadata": {},
   "source": [
    "# 4. For Loop\n",
    "\n",
    "The For Loop is a control flow statement used to iterate over lists (or other kinds of sequences). The general structure of a for loop is as follows:\n",
    "\n",
    "```python\n",
    "x = [1,2,3,4,5]\n",
    "for i in x:\n",
    "    print(i)\n",
    "```\n",
    "When this code is executed, each element in ```x``` would be printed to the console. \n",
    "\n",
    "Since strings are also sequence data types, we can use a for loop to iterate over Strings:\n",
    "\n",
    "```python\n",
    "my_string = 'HumanEd is awesome'\n",
    "for c in my_string:\n",
    "    print(c)\n",
    "```\n",
    "\n",
    "This code iterates over every character in ```my_string```, printing the character.\n",
    "\n",
    "We can use the ```break``` statement to exit out of a for loop when a particular condition is met:\n",
    "\n",
    "```python\n",
    "x = [178, 34, 12, 98, 21, 45, 87]\n",
    "for i in x:\n",
    "    if (i%7 == 0):\n",
    "        print(i)\n",
    "        break\n",
    "```\n",
    "\n",
    "This code iterates over the elements in ```x``` to find the first element that is divisible by 7. Once this element is found, we exit the for loop. \n",
    "\n",
    "Additionally, we can use the ```continue``` statement to skip to the next loop iteration:\n",
    "\n",
    "```python\n",
    "x = [1,2,3,4,5,6,7,8,9,10]\n",
    "for i in x:\n",
    "    if (i%2 == 0):\n",
    "        continue\n",
    "    print(i)\n",
    "```\n",
    "\n",
    "This code would print all the odd elements of x, skipping the even ones.\n",
    "\n",
    "Finally, it is often useful to iterate over a large quantity of consecutive numbers. This can easily be achieved using the ```range()``` function:\n",
    "\n",
    "```python\n",
    "for i in range(1000):\n",
    "    print(i)\n",
    "```\n",
    "\n",
    "This code prints every number from 0 to 999. Internally, ```range(a,b)``` constructs a list of consicutive numbers from a to b - 1, where could be omited and it will be assumed that ```a=0```. Note that the resulting list is a different datatype than the lists we have previously encontered. You can convert ```range(a,b)``` to a traditional list as follows ```list(range(a,b))```. Finally, if you wanted to iterate over numbers: $a, a + 2, a + 4, ..., b-1$, you could simply use ```range(a,b, 2)```."
   ]
  },
  {
   "cell_type": "code",
   "execution_count": 5,
   "id": "d2f81da7",
   "metadata": {},
   "outputs": [
    {
     "name": "stdout",
     "output_type": "stream",
     "text": [
      "7\n",
      "14\n",
      "21\n",
      "28\n",
      "35\n",
      "42\n",
      "49\n",
      "56\n",
      "63\n",
      "70\n",
      "77\n",
      "84\n",
      "91\n",
      "98\n"
     ]
    }
   ],
   "source": [
    "for i in range(5, 100):\n",
    "    if (i%7 == 0):\n",
    "        print(i)"
   ]
  },
  {
   "cell_type": "markdown",
   "id": "75398e74",
   "metadata": {},
   "source": [
    "## Exercise 6\n",
    "Write a function ```isPrime(n)``` that behaves as follows:\n",
    "- if n is a prime number: return 1\n",
    "- if n is not a prime number: return the smallest divisor of n that is greater than 1"
   ]
  },
  {
   "cell_type": "markdown",
   "id": "22dcadf0",
   "metadata": {},
   "source": [
    "# Challenge 1"
   ]
  },
  {
   "cell_type": "code",
   "execution_count": null,
   "id": "2ea0c6d7",
   "metadata": {},
   "outputs": [],
   "source": []
  }
 ],
 "metadata": {
  "kernelspec": {
   "display_name": "Python 3 (ipykernel)",
   "language": "python",
   "name": "python3"
  },
  "language_info": {
   "codemirror_mode": {
    "name": "ipython",
    "version": 3
   },
   "file_extension": ".py",
   "mimetype": "text/x-python",
   "name": "python",
   "nbconvert_exporter": "python",
   "pygments_lexer": "ipython3",
   "version": "3.9.7"
  }
 },
 "nbformat": 4,
 "nbformat_minor": 5
}
